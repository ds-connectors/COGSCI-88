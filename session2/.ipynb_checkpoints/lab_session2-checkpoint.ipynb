{
 "cells": [
  {
   "cell_type": "markdown",
   "metadata": {},
   "source": [
    "In this exercise, you will learn about the human number sense by working with the data from the number estimation experiment in the class. Follow the guided instructions below and complete the exercise by filling in the blank under each step. Try to solve problems on your own or with your designated collaborator before turning for help."
   ]
  },
  {
   "cell_type": "code",
   "execution_count": null,
   "metadata": {
    "collapsed": true
   },
   "outputs": [],
   "source": [
    "import matplotlib.pyplot as plt\n",
    "import numpy as np\n",
    "\n",
    "# Section 1 - Visualize raw estimates\n",
    "\n",
    "# The target number (i.e. ground truth) for each experimental trial is provided in the following python list\n",
    "targets = [3,8,2,5,30,7,6,15,10,20,9,40,35,25,4];\n",
    "\n",
    "# Step a) Supply your own estimated numbers in a python list - it should include 15 numbers, 1 per trial\n",
    "estimates = [];\n",
    "\n",
    "# Step b) Scatter-plot your estimates (y-axis) against targets (x-axis)\n",
    "\n",
    "\n",
    "# Step c) Label both x and y axes\n",
    "\n",
    "\n",
    "# Step d) Draw a reference line that plots the ground truth (i.e. targets) against the ground truth (hint: Google \"Python plt.plot()\")\n",
    "\n",
    "\n",
    "plt.show()\n",
    "\n",
    "# Section 2 - Visualize absolute deviations\n",
    "\n",
    "# Step a) Compute the absolute deviation of your estimate from each target number, i.e. |estimates-targets|\n",
    "# To subtract two lists and take the absolute values of their difference, you might want to use the \"numpy\" library the \"array\" function \n",
    "# i.e. \"import numpy as np\" is already done for you\n",
    "# i.e. \"np.array()\" converts a list to array, which can then subtract one another \"-\" and be taken the absolute value of \"np.absolute()\"\n",
    "deviations = \n",
    "\n",
    "plt.figure()\n",
    "\n",
    "# Step b) Plot the deviations of your estimates against targets (you could connect the points with a line)\n",
    "\n",
    "# Step c) Label the axes\n",
    "\n",
    "plt.show()\n",
    "\n",
    "\n",
    "\n",
    "\n",
    "\n",
    "\n",
    "\n"
   ]
  }
 ],
 "metadata": {
  "kernelspec": {
   "display_name": "Python 3",
   "language": "python",
   "name": "python3"
  },
  "language_info": {
   "codemirror_mode": {
    "name": "ipython",
    "version": 3
   },
   "file_extension": ".py",
   "mimetype": "text/x-python",
   "name": "python",
   "nbconvert_exporter": "python",
   "pygments_lexer": "ipython3",
   "version": "3.4.4"
  }
 },
 "nbformat": 4,
 "nbformat_minor": 0
}
